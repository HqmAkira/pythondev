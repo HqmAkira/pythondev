{
 "cells": [
  {
   "cell_type": "code",
   "execution_count": 3,
   "id": "f006f710",
   "metadata": {},
   "outputs": [
    {
     "name": "stdout",
     "output_type": "stream",
     "text": [
      "10番目の数値を求めますね。\n",
      "10番目の数値は55です。\n"
     ]
    }
   ],
   "source": [
    "from prognum import fibonacci_number\n",
    "\n",
    "input_number = int(input(\"何番目の数値を求めますか？:\"))\n",
    "print(f\"{input_number}番目の数値を求めますね。\")\n",
    "print(f\"{input_number}番目の数値は{fibonacci_number(input_number)}です。\")"
   ]
  }
 ],
 "metadata": {
  "kernelspec": {
   "display_name": ".venv (3.12.10)",
   "language": "python",
   "name": "python3"
  },
  "language_info": {
   "codemirror_mode": {
    "name": "ipython",
    "version": 3
   },
   "file_extension": ".py",
   "mimetype": "text/x-python",
   "name": "python",
   "nbconvert_exporter": "python",
   "pygments_lexer": "ipython3",
   "version": "3.12.10"
  }
 },
 "nbformat": 4,
 "nbformat_minor": 5
}
