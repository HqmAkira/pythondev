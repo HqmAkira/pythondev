{
 "cells": [
  {
   "cell_type": "code",
   "execution_count": 23,
   "id": "e13a6547",
   "metadata": {},
   "outputs": [],
   "source": [
    "class Baseball_Team:\n",
    "    name: str\n",
    "    win: int\n",
    "    lose: int\n",
    "    draw: int\n",
    "\n",
    "    def __init__(self, name, win, lose, draw):\n",
    "        self.name = name\n",
    "        self.win = win\n",
    "        self.lose = lose\n",
    "        self.draw = draw\n",
    "\n",
    "    def calc_win_rate(self):\n",
    "        if self.win + self.lose == 0:\n",
    "            return 0.0\n",
    "        return self.win / (self.win + self.lose)\n",
    "    \n",
    "    def show_team_result(self):\n",
    "        text = \"{:<8} {:>6} {:>6} {:>6} {:<6}\".format(self.name, self.win, self.lose, self.draw, f\"{self.calc_win_rate():.3f}\")\n",
    "        print(text)"
   ]
  },
  {
   "cell_type": "code",
   "execution_count": 27,
   "id": "4951997b",
   "metadata": {},
   "outputs": [
    {
     "name": "stdout",
     "output_type": "stream",
     "text": [
      "team        win   lose   draw rate  \n",
      "Archers      77     64      2 0.546 \n",
      "Meteors      71     69      3 0.507 \n",
      "Cheetahs     69     68      6 0.504 \n",
      "Sharks       70     70      3 0.500 \n",
      "Pythons      68     73      2 0.482 \n",
      "Owls         59     82      2 0.418 \n"
     ]
    }
   ],
   "source": [
    "archers_team = Baseball_Team(\"Archers\", 77, 64, 2)\n",
    "meteors_team = Baseball_Team(\"Meteors\", 71, 69, 3)\n",
    "cheetahs_team = Baseball_Team(\"Cheetahs\", 69, 68, 6)\n",
    "sharks_team = Baseball_Team(\"Sharks\", 70, 70, 3)\n",
    "pythons_team = Baseball_Team(\"Pythons\", 68, 73, 2)\n",
    "owls_team = Baseball_Team(\"Owls\", 59, 82, 2)\n",
    "\n",
    "text_align = \"{:<8} {:>6} {:>6} {:>6} {:<6}\"\n",
    "print(text_align.format(\"team\", \"win\", \"lose\", \"draw\", \"rate\"))\n",
    "archers_team.show_team_result()\n",
    "meteors_team.show_team_result()\n",
    "cheetahs_team.show_team_result()\n",
    "sharks_team.show_team_result()\n",
    "pythons_team.show_team_result()\n",
    "owls_team.show_team_result()\n"
   ]
  }
 ],
 "metadata": {
  "kernelspec": {
   "display_name": ".venv (3.12.10)",
   "language": "python",
   "name": "python3"
  },
  "language_info": {
   "codemirror_mode": {
    "name": "ipython",
    "version": 3
   },
   "file_extension": ".py",
   "mimetype": "text/x-python",
   "name": "python",
   "nbconvert_exporter": "python",
   "pygments_lexer": "ipython3",
   "version": "3.12.10"
  }
 },
 "nbformat": 4,
 "nbformat_minor": 5
}
