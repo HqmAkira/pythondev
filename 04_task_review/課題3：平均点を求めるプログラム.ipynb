{
 "cells": [
  {
   "cell_type": "code",
   "execution_count": null,
   "id": "6e3b76c1",
   "metadata": {},
   "outputs": [],
   "source": [
    "### 平均点を計算するプログラム\n",
    "def calculate_average_score(num_list):\n",
    "    if not num_list:\n",
    "        return 0\n",
    "    people_count = len(num_list)\n",
    "    average_score = round(sum(num_list) / people_count, 1)\n",
    "    print(f\"{people_count}人のテストの平均点は{average_score}点です。\")\n"
   ]
  },
  {
   "cell_type": "code",
   "execution_count": null,
   "id": "09328888",
   "metadata": {},
   "outputs": [],
   "source": [
    "### テスト点数を入力する関数\n",
    "def get_score_list():\n",
    "    scores = []\n",
    "    count = 0\n",
    "    while True:\n",
    "        score = int(input(\"点数を入力してください（'-1'を入力すると終了します）：\"))\n",
    "        if score == -1:\n",
    "            return scores\n",
    "        scores.append(score)\n",
    "        count += 1\n",
    "        print(f\"{count}人目のテスト点数は{score}点です。\")\n"
   ]
  },
  {
   "cell_type": "code",
   "execution_count": 14,
   "id": "6293c500",
   "metadata": {},
   "outputs": [
    {
     "name": "stdout",
     "output_type": "stream",
     "text": [
      "1人目のテスト点数は65点です。\n",
      "2人目のテスト点数は42点です。\n",
      "3人目のテスト点数は87点です。\n",
      "4人目のテスト点数は99点です。\n",
      "5人目のテスト点数は48点です。\n",
      "6人目のテスト点数は73点です。\n",
      "7人目のテスト点数は100点です。\n",
      "8人目のテスト点数は61点です。\n",
      "9人目のテスト点数は89点です。\n",
      "10人目のテスト点数は70点です。\n",
      "10人のテストの平均点は73.4点です。\n"
     ]
    }
   ],
   "source": [
    "calculate_average_score(get_score_list())"
   ]
  }
 ],
 "metadata": {
  "kernelspec": {
   "display_name": ".venv (3.12.10)",
   "language": "python",
   "name": "python3"
  },
  "language_info": {
   "codemirror_mode": {
    "name": "ipython",
    "version": 3
   },
   "file_extension": ".py",
   "mimetype": "text/x-python",
   "name": "python",
   "nbconvert_exporter": "python",
   "pygments_lexer": "ipython3",
   "version": "3.12.10"
  }
 },
 "nbformat": 4,
 "nbformat_minor": 5
}
