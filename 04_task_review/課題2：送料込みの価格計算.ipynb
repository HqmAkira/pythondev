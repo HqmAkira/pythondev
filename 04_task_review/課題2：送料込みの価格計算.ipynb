{
 "cells": [
  {
   "cell_type": "code",
   "execution_count": 4,
   "id": "9397d7ee",
   "metadata": {},
   "outputs": [],
   "source": [
    "### 税抜価格から送料込みの価格を計算する関数\n",
    "def calculate_total_price():\n",
    "    price_exclude_tax = int(input(\"税抜価格を入力してください：\"))\n",
    "    print(\"税抜価格: \", price_exclude_tax)\n",
    "    price_include_tax = round(price_exclude_tax * 1.1)\n",
    "    print(\"税込価格：\", price_include_tax)\n",
    "    shipping_price = 0\n",
    "    if price_include_tax >= 2000:\n",
    "        print(\"送料は無料です\")\n",
    "    else:\n",
    "        print(\"送料として350円かかります\")\n",
    "        shipping_price = 350\n",
    "    total_price = price_include_tax + shipping_price\n",
    "    print(f\"送料込みの価格は{total_price}円です。\")"
   ]
  },
  {
   "cell_type": "code",
   "execution_count": 6,
   "id": "5b0ada91",
   "metadata": {},
   "outputs": [
    {
     "name": "stdout",
     "output_type": "stream",
     "text": [
      "税抜価格:  1800\n",
      "税込価格： 1980\n",
      "送料として350円かかります\n",
      "送料込みの価格は2330円です。\n"
     ]
    }
   ],
   "source": [
    "calculate_total_price()"
   ]
  }
 ],
 "metadata": {
  "kernelspec": {
   "display_name": ".venv (3.12.10)",
   "language": "python",
   "name": "python3"
  },
  "language_info": {
   "codemirror_mode": {
    "name": "ipython",
    "version": 3
   },
   "file_extension": ".py",
   "mimetype": "text/x-python",
   "name": "python",
   "nbconvert_exporter": "python",
   "pygments_lexer": "ipython3",
   "version": "3.12.10"
  }
 },
 "nbformat": 4,
 "nbformat_minor": 5
}
