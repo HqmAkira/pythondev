{
 "cells": [
  {
   "cell_type": "code",
   "execution_count": null,
   "id": "084f3e73",
   "metadata": {},
   "outputs": [],
   "source": [
    "### 素数であるかを判定する関数\n",
    "def is_odd(num, odd_numbers: list):\n",
    "    ## 1以下の数は素数ではない\n",
    "    if num < 2:\n",
    "        return False\n",
    "    ## 素数リストに含まれる素数で割り切れるかを確認\n",
    "    for odd_num in odd_numbers:\n",
    "        if num % odd_num == 0:\n",
    "            return False\n",
    "    return True"
   ]
  },
  {
   "cell_type": "code",
   "execution_count": 20,
   "id": "9942544f",
   "metadata": {},
   "outputs": [
    {
     "name": "stdout",
     "output_type": "stream",
     "text": [
      "2\n",
      "3\n",
      "5\n",
      "7\n",
      "11\n",
      "13\n",
      "17\n",
      "19\n",
      "23\n",
      "29\n",
      "31\n",
      "37\n",
      "41\n",
      "43\n",
      "47\n",
      "53\n",
      "59\n",
      "61\n",
      "67\n",
      "71\n",
      "73\n",
      "79\n",
      "83\n",
      "89\n",
      "97\n"
     ]
    }
   ],
   "source": [
    "odd_numbers = []\n",
    "for num in range(100):\n",
    "    if is_odd(num, odd_numbers):\n",
    "        print(num)\n",
    "        odd_numbers.append(num)"
   ]
  }
 ],
 "metadata": {
  "kernelspec": {
   "display_name": ".venv (3.12.10)",
   "language": "python",
   "name": "python3"
  },
  "language_info": {
   "codemirror_mode": {
    "name": "ipython",
    "version": 3
   },
   "file_extension": ".py",
   "mimetype": "text/x-python",
   "name": "python",
   "nbconvert_exporter": "python",
   "pygments_lexer": "ipython3",
   "version": "3.12.10"
  }
 },
 "nbformat": 4,
 "nbformat_minor": 5
}
