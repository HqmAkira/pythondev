{
 "cells": [
  {
   "cell_type": "code",
   "execution_count": 3,
   "id": "a3092639",
   "metadata": {},
   "outputs": [
    {
     "name": "stdout",
     "output_type": "stream",
     "text": [
      "英単語を入力してください: dog\n",
      "英単語を入力してください: cat\n",
      "英単語を入力してください: giraffe\n",
      "英単語を入力してください: kangaroo\n",
      "英単語を入力してください: horse\n",
      "英単語を入力してください: bear\n",
      "英単語を入力してください: \n",
      "入力された英単語: ['bear', 'cat', 'dog', 'giraffe', 'horse', 'kangaroo']\n",
      "aが5個ありました\n",
      "bが1個ありました\n",
      "cが1個ありました\n",
      "dが1個ありました\n",
      "eが3個ありました\n",
      "fが2個ありました\n",
      "gが3個ありました\n",
      "hが1個ありました\n",
      "iが1個ありました\n",
      "kが1個ありました\n",
      "nが1個ありました\n",
      "oが4個ありました\n",
      "rが4個ありました\n",
      "sが1個ありました\n",
      "tが1個ありました\n"
     ]
    }
   ],
   "source": [
    "## 英単語を格納するための空のリストを作成します\n",
    "english_words_list = []\n",
    "\n",
    "english_alphabet_dict = dict.fromkeys(\"abcdefghijklmnopqrstuvwxyz\", 0)\n",
    "\n",
    "while True:\n",
    "    # ユーザーから英単語を入力してもらいます\n",
    "    word = input(\"英単語を入力してください (終了するには 'エンター' と入力): \")\n",
    "    \n",
    "    print(\"英単語を入力してください:\", word)\n",
    "\n",
    "    if word.lower() == \"\":\n",
    "        break\n",
    "\n",
    "    # 単語の各文字の出現回数をカウントします\n",
    "    for char in word.lower():\n",
    "        if char in english_alphabet_dict:\n",
    "            english_alphabet_dict[char] += 1\n",
    "    \n",
    "    # 入力された単語を小文字に変換し、リストに追加します\n",
    "    english_words_list.append(word.lower())\n",
    "\n",
    "english_words_list.sort()\n",
    "print(\"入力された英単語:\", english_words_list)\n",
    "\n",
    "for char, count in english_alphabet_dict.items():\n",
    "    if count > 0:\n",
    "        print(f\"{char}が{count}個ありました\")\n",
    "    "
   ]
  }
 ],
 "metadata": {
  "kernelspec": {
   "display_name": ".venv (3.12.10)",
   "language": "python",
   "name": "python3"
  },
  "language_info": {
   "codemirror_mode": {
    "name": "ipython",
    "version": 3
   },
   "file_extension": ".py",
   "mimetype": "text/x-python",
   "name": "python",
   "nbconvert_exporter": "python",
   "pygments_lexer": "ipython3",
   "version": "3.12.10"
  }
 },
 "nbformat": 4,
 "nbformat_minor": 5
}
