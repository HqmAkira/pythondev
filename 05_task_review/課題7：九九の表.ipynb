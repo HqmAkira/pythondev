{
 "cells": [
  {
   "cell_type": "code",
   "execution_count": 11,
   "id": "75f2d9e7",
   "metadata": {},
   "outputs": [],
   "source": [
    "#@title 九九のリストを作成する\n",
    "def make_ninety_nine_list() -> list:\n",
    "    ninety_nine_table = []\n",
    "    for i in range(1, 10):\n",
    "        single_line = []\n",
    "        for j in range(1, 10):\n",
    "            single_line.append(i * j)\n",
    "        ninety_nine_table.append(single_line)\n",
    "    return ninety_nine_table"
   ]
  },
  {
   "cell_type": "code",
   "execution_count": 14,
   "id": "308a80f1",
   "metadata": {},
   "outputs": [],
   "source": [
    "#@title 九九の表を表示する\n",
    "def display_ninety_nine_table(ninety_nine_table: list):\n",
    "    for v in range(9):\n",
    "        for h in range(9):\n",
    "            print(f\"{(ninety_nine_table[v][h]):3d}\", end=\"\")\n",
    "        print(\"\")"
   ]
  },
  {
   "cell_type": "code",
   "execution_count": 15,
   "id": "cb7c2ff6",
   "metadata": {},
   "outputs": [
    {
     "name": "stdout",
     "output_type": "stream",
     "text": [
      "  1  2  3  4  5  6  7  8  9\n",
      "  2  4  6  8 10 12 14 16 18\n",
      "  3  6  9 12 15 18 21 24 27\n",
      "  4  8 12 16 20 24 28 32 36\n",
      "  5 10 15 20 25 30 35 40 45\n",
      "  6 12 18 24 30 36 42 48 54\n",
      "  7 14 21 28 35 42 49 56 63\n",
      "  8 16 24 32 40 48 56 64 72\n",
      "  9 18 27 36 45 54 63 72 81\n"
     ]
    }
   ],
   "source": [
    "display_ninety_nine_table(make_ninety_nine_list())"
   ]
  }
 ],
 "metadata": {
  "kernelspec": {
   "display_name": ".venv (3.12.10)",
   "language": "python",
   "name": "python3"
  },
  "language_info": {
   "codemirror_mode": {
    "name": "ipython",
    "version": 3
   },
   "file_extension": ".py",
   "mimetype": "text/x-python",
   "name": "python",
   "nbconvert_exporter": "python",
   "pygments_lexer": "ipython3",
   "version": "3.12.10"
  }
 },
 "nbformat": 4,
 "nbformat_minor": 5
}
