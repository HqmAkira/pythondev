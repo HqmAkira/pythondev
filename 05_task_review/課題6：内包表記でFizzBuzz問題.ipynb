{
 "cells": [
  {
   "cell_type": "code",
   "execution_count": 2,
   "id": "c32e497a",
   "metadata": {},
   "outputs": [],
   "source": [
    "### 空の状態でリストを作成します\n",
    "def make_empty_list() -> list:\n",
    "    return []"
   ]
  },
  {
   "cell_type": "code",
   "execution_count": 3,
   "id": "82cd1f08",
   "metadata": {},
   "outputs": [],
   "source": [
    "### FizzBuzzを変換します。\n",
    "def fizzbuzz_convert(num: int) -> str:\n",
    "    if (num % 3 == 0) and (num % 5 == 0):\n",
    "        return \"FizzBuzz\"\n",
    "    elif num % 3 == 0:\n",
    "        return \"Fizz\"\n",
    "    elif num % 5 == 0:\n",
    "        return \"Buzz\"\n",
    "    else:\n",
    "        return str(num)"
   ]
  },
  {
   "cell_type": "code",
   "execution_count": 1,
   "id": "a7e4ad3d",
   "metadata": {},
   "outputs": [
    {
     "ename": "NameError",
     "evalue": "name 'make_empty_list' is not defined",
     "output_type": "error",
     "traceback": [
      "\u001b[31m---------------------------------------------------------------------------\u001b[39m",
      "\u001b[31mNameError\u001b[39m                                 Traceback (most recent call last)",
      "\u001b[36mCell\u001b[39m\u001b[36m \u001b[39m\u001b[32mIn[1]\u001b[39m\u001b[32m, line 1\u001b[39m\n\u001b[32m----> \u001b[39m\u001b[32m1\u001b[39m empty_list = \u001b[43mmake_empty_list\u001b[49m()\n\u001b[32m      2\u001b[39m \u001b[38;5;28;01mfor\u001b[39;00m i \u001b[38;5;129;01min\u001b[39;00m \u001b[38;5;28mrange\u001b[39m(\u001b[32m1\u001b[39m, \u001b[32m101\u001b[39m):\n\u001b[32m      3\u001b[39m     converted_value = fizzbuzz_convert(i)\n",
      "\u001b[31mNameError\u001b[39m: name 'make_empty_list' is not defined"
     ]
    }
   ],
   "source": [
    "empty_list = make_empty_list()\n",
    "for i in range(1, 101):\n",
    "    converted_value = fizzbuzz_convert(i)\n",
    "    empty_list.append(converted_value)\n",
    "print(empty_list)"
   ]
  }
 ],
 "metadata": {
  "kernelspec": {
   "display_name": ".venv (3.12.10)",
   "language": "python",
   "name": "python3"
  },
  "language_info": {
   "codemirror_mode": {
    "name": "ipython",
    "version": 3
   },
   "file_extension": ".py",
   "mimetype": "text/x-python",
   "name": "python",
   "nbconvert_exporter": "python",
   "pygments_lexer": "ipython3",
   "version": "3.12.10"
  }
 },
 "nbformat": 4,
 "nbformat_minor": 5
}
