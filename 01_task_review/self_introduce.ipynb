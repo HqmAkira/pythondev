{
 "cells": [
  {
   "cell_type": "code",
   "execution_count": 6,
   "id": "417fb3c0",
   "metadata": {},
   "outputs": [
    {
     "name": "stdout",
     "output_type": "stream",
     "text": [
      "名前を入力してください：Kimei.Ka\n",
      "AIではない: Hello! Kimei.Kaさん。\n",
      "年齢を入力してください：30\n",
      "AIではない: 今30歳ですね。\n",
      "AIではない: では,自己紹介をお願いします。\n",
      "私の名前はKimei.Kaです。来年で31歳になります。\n"
     ]
    }
   ],
   "source": [
    "### 名前を入力する関数\n",
    "def get_name():\n",
    "    name = input(\"名前を入力してください：\")\n",
    "    print(\"名前を入力してください：\" + name)\n",
    "    print(f\"AIではない: Hello! {name}さん。\")\n",
    "    return name\n",
    "\n",
    "### 年齢を入力する関数\n",
    "def get_age():\n",
    "    age = input(\"年齢を入力してください：\")\n",
    "    print(\"年齢を入力してください：\" + age)\n",
    "    print(f\"AIではない: 今{age}歳ですね。\")\n",
    "    return int(age)\n",
    "\n",
    "### 自己紹介自己紹介するプログラム\n",
    "def introduce(name, age):\n",
    "    print('AIではない: では,自己紹介をお願いします。')\n",
    "    age_next_year = age + 1\n",
    "    print(f\"私の名前は{name}です。来年で{age_next_year}歳になります。\")\n",
    "    return\n",
    "\n",
    "introduce(get_name(), get_age())"
   ]
  }
 ],
 "metadata": {
  "kernelspec": {
   "display_name": ".venv (3.12.10)",
   "language": "python",
   "name": "python3"
  },
  "language_info": {
   "codemirror_mode": {
    "name": "ipython",
    "version": 3
   },
   "file_extension": ".py",
   "mimetype": "text/x-python",
   "name": "python",
   "nbconvert_exporter": "python",
   "pygments_lexer": "ipython3",
   "version": "3.12.10"
  }
 },
 "nbformat": 4,
 "nbformat_minor": 5
}
