{
 "cells": [
  {
   "cell_type": "code",
   "execution_count": 5,
   "id": "417fb3c0",
   "metadata": {},
   "outputs": [
    {
     "name": "stdout",
     "output_type": "stream",
     "text": [
      "Hello! Qheさん。\n",
      "今31歳ですね。\n",
      "では,自己紹介をお願いします。\n",
      "私の名前はQheです。来年で32歳になります。\n"
     ]
    }
   ],
   "source": [
    "### 名前を入力する関数\n",
    "def get_name():\n",
    "    name = input(\"名前を入力してください：\")\n",
    "    print(f\"Hello! {name}さん。\")\n",
    "    return name\n",
    "\n",
    "### 年齢を入力する関数\n",
    "def get_age():\n",
    "    age = input(\"年齢を入力してください：\")\n",
    "    print(f\"今{age}歳ですね。\")\n",
    "    return int(age)\n",
    "\n",
    "### 自己紹介自己紹介するプログラム\n",
    "def introduce(name, age):\n",
    "    print('では,自己紹介をお願いします。')\n",
    "    age_next_year = age + 1\n",
    "    print(f\"私の名前は{name}です。来年で{age_next_year}歳になります。\")\n",
    "    return\n",
    "\n",
    "introduce(get_name(), get_age())"
   ]
  }
 ],
 "metadata": {
  "kernelspec": {
   "display_name": ".venv (3.12.10)",
   "language": "python",
   "name": "python3"
  },
  "language_info": {
   "codemirror_mode": {
    "name": "ipython",
    "version": 3
   },
   "file_extension": ".py",
   "mimetype": "text/x-python",
   "name": "python",
   "nbconvert_exporter": "python",
   "pygments_lexer": "ipython3",
   "version": "3.12.10"
  }
 },
 "nbformat": 4,
 "nbformat_minor": 5
}
